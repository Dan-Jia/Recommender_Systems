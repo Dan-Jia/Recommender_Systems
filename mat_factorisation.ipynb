{
 "cells": [
  {
   "cell_type": "code",
   "execution_count": 1,
   "metadata": {},
   "outputs": [
    {
     "name": "stdout",
     "output_type": "stream",
     "text": [
      "[[   2  566    1]\n",
      " [   2  750    2]\n",
      " [   2  391    1]\n",
      " ...\n",
      " [5498  565    2]\n",
      " [5498  648    2]\n",
      " [5498  651    2]]\n"
     ]
    }
   ],
   "source": [
    "import os\n",
    "import numpy as np\n",
    "import numpy.random as rd\n",
    "\n",
    "# read train set and qulifying set \n",
    "Xt = np.genfromtxt(\"train.csv\", delimiter=\",\", dtype=np.int)\n",
    "Xq = np.genfromtxt(\"qualifying.csv\", delimiter=\",\", dtype=np.int)\n",
    "print(Xt)"
   ]
  },
  {
   "cell_type": "code",
   "execution_count": 2,
   "metadata": {},
   "outputs": [
    {
     "name": "stdout",
     "output_type": "stream",
     "text": [
      "There are so much number from 0 to 4 respectively:\n",
      "[335499, 50169, 29623, 15138, 4212]\n"
     ]
    },
    {
     "data": {
      "text/plain": [
       "<matplotlib.figure.Figure at 0x10866a4a8>"
      ]
     },
     "metadata": {},
     "output_type": "display_data"
    }
   ],
   "source": [
    "# data description\n",
    "import matplotlib.pyplot as plt\n",
    "List = [Xt[:,2][Xt[:,2]==i].shape[0] for i in range (np.max(Xt[:,2]+1))]\n",
    "print('There are so much number from 0 to 4 respectively:')\n",
    "print(List)\n",
    "plt.bar(range(len(List)),List)\n",
    "plt.xlabel('Rating'); plt.ylabel('number of data')\n",
    "plt.show()"
   ]
  },
  {
   "cell_type": "code",
   "execution_count": 3,
   "metadata": {},
   "outputs": [],
   "source": [
    "# data preparation\n",
    "from sklearn import model_selection as ms\n",
    "from scipy.sparse import coo_matrix\n",
    "import pandas as pd   \n",
    "\n",
    "Xt= Xt + np.array([0,0,1])\n",
    "train_data,test_data=ms.train_test_split(Xt,test_size=0.1,random_state = 1)"
   ]
  },
  {
   "cell_type": "code",
   "execution_count": 4,
   "metadata": {},
   "outputs": [],
   "source": [
    "# define unconstrained matrix factorization class\n",
    "import random\n",
    "class matix_factorization:\n",
    "    def __init__(self,mat,K=20):\n",
    "        self.mat=np.array(mat)\n",
    "        self.K=K\n",
    "        self.bi={}\n",
    "        self.bu={}\n",
    "        self.qi={}\n",
    "        self.pu={}\n",
    "        self.avg=np.mean(self.mat[:,2])\n",
    "        for i in range(self.mat.shape[0]):\n",
    "            uid=self.mat[i,0]\n",
    "            iid=self.mat[i,1]\n",
    "            self.bi.setdefault(iid,0)\n",
    "            self.bu.setdefault(uid,0)\n",
    "            self.qi.setdefault(iid,np.random.random((self.K,1))/10*np.sqrt(self.K))\n",
    "            self.pu.setdefault(uid,np.random.random((self.K,1))/10*np.sqrt(self.K))\n",
    "            \n",
    "    # define functin about the prediction of rating\n",
    "    def predict(self,uid,iid): \n",
    "        # if the uid or iid didn't appear before, then set the mapped value of relevant uid and iid\n",
    "        # in bi,bu,qi,pu as 0.\n",
    "        self.bi.setdefault(iid,0)\n",
    "        self.bu.setdefault(uid,0)\n",
    "        self.qi.setdefault(iid,np.zeros((self.K,1)))\n",
    "        self.pu.setdefault(uid,np.zeros((self.K,1)))\n",
    "        # the formula of prediction\n",
    "        rating=self.avg+self.bi[iid]+self.bu[uid]+np.sum(self.qi[iid]*self.pu[uid]) \n",
    "        # after plus 1 for every known rating, the rating range will be between 1 to 5 (including 1 and 5)\n",
    "        # So if the result over than 5, return 5; or lower than 1, return 1.\n",
    "        if rating>5:\n",
    "            rating=5\n",
    "        if rating<1:\n",
    "            rating=1\n",
    "        return rating\n",
    "    \n",
    "    def train(self,steps=35,gamma=0.04,Lambda=0.05):    # train the model, step is the number of loops\n",
    "        preRmse = 1000000000.0\n",
    "        print('train data size',self.mat.shape)\n",
    "        for step in range(steps):\n",
    "            print('step',step+1,'is running')           \n",
    "            KK=np.random.permutation(self.mat.shape[0]) #kk is random shuffling of the matrix\n",
    "            rmse=0.0\n",
    "            for i in range(self.mat.shape[0]):          #Stochastic Gradient Descent Aglo\n",
    "                j=KK[i]\n",
    "                uid=self.mat[j,0]\n",
    "                iid=self.mat[j,1]\n",
    "                rating=self.mat[j,2]\n",
    "                eui=rating-self.predict(uid, iid)\n",
    "                rmse+=eui**2\n",
    "                self.bu[uid]+=gamma*(eui-Lambda*self.bu[uid])  \n",
    "                self.bi[iid]+=gamma*(eui-Lambda*self.bi[iid])\n",
    "                tmp=self.qi[iid]\n",
    "                self.qi[iid]+=gamma*(eui*self.pu[uid]-Lambda*self.qi[iid])\n",
    "                self.pu[uid]+=gamma*(eui*tmp-Lambda*self.pu[uid])\n",
    "            nowRmse=np.sqrt(rmse*1.0/self.mat.shape[0])\n",
    "            print('rmse is', nowRmse)\n",
    "            if(round(nowRmse,3)<preRmse):              \n",
    "                preRmse=round(nowRmse,3)\n",
    "            else:                                      # when Rmse is no longer reduced, \n",
    "                break                                  # the minimal RMSE is founded and stop the loop.\n",
    "            gamma *= 0.93                              # the learning rate of gamma is 0.93\n",
    "\n",
    "    # compute rating for qualifying.csv (the rating range is between 0 to 4.)\n",
    "    def r_hat(self,test_data):                         \n",
    "        pred=[0 for i in range(test_data.shape[0])]\n",
    "        for i in range (test_data.shape[0]):\n",
    "            uid=test_data[i,0]\n",
    "            iid=test_data[i,1]\n",
    "            pred[i]=a.predict(uid,iid)-1\n",
    "        return pred\n",
    "    \n",
    "    # compute rating for test_data (rating range: 1 to 5) and corresponding RMSE\n",
    "    def test(self,test_data):          \n",
    "        test_data=np.array(test_data)\n",
    "        print('test data size',test_data.shape)\n",
    "        rmse=0.0\n",
    "        for i in range(test_data.shape[0]):\n",
    "            uid=test_data[i,0]\n",
    "            iid=test_data[i,1]\n",
    "            rating=test_data[i,2]\n",
    "            eui=rating-self.predict(uid, iid)\n",
    "            rmse+=eui**2\n",
    "        print('rmse of test data is',np.sqrt(rmse/test_data.shape[0]))\n"
   ]
  },
  {
   "cell_type": "code",
   "execution_count": 5,
   "metadata": {
    "scrolled": true
   },
   "outputs": [
    {
     "name": "stdout",
     "output_type": "stream",
     "text": [
      "train data size (391176, 3)\n",
      "step 1 is running\n",
      "rmse is 0.7477200152187443\n",
      "step 2 is running\n",
      "rmse is 0.5568192323509193\n",
      "step 3 is running\n",
      "rmse is 0.5197352942850387\n",
      "step 4 is running\n",
      "rmse is 0.5010838777801487\n",
      "step 5 is running\n",
      "rmse is 0.489802586178501\n",
      "step 6 is running\n",
      "rmse is 0.4824768484599918\n",
      "step 7 is running\n",
      "rmse is 0.47693803153933506\n",
      "step 8 is running\n",
      "rmse is 0.4730336355232131\n",
      "step 9 is running\n",
      "rmse is 0.4694341326792978\n",
      "step 10 is running\n",
      "rmse is 0.46729818775024395\n",
      "step 11 is running\n",
      "rmse is 0.46507294057530013\n",
      "step 12 is running\n",
      "rmse is 0.46312362689229053\n",
      "step 13 is running\n",
      "rmse is 0.46155652285202486\n",
      "step 14 is running\n",
      "rmse is 0.4602051645413848\n",
      "step 15 is running\n",
      "rmse is 0.45910736955135595\n",
      "step 16 is running\n",
      "rmse is 0.45812971290424176\n",
      "step 17 is running\n",
      "rmse is 0.4570567189140238\n",
      "step 18 is running\n",
      "rmse is 0.45605677319635596\n",
      "step 19 is running\n",
      "rmse is 0.45538905677141384\n",
      "step 20 is running\n",
      "rmse is 0.4545511814693519\n",
      "\n",
      "test data size (43465, 3)\n",
      "rmse of test data is 0.5072635334424975\n"
     ]
    }
   ],
   "source": [
    "# for train data and test data \n",
    "a=matix_factorization(train_data,50)  \n",
    "a.train()\n",
    "print('')\n",
    "a.test(test_data)"
   ]
  },
  {
   "cell_type": "code",
   "execution_count": 6,
   "metadata": {},
   "outputs": [
    {
     "name": "stdout",
     "output_type": "stream",
     "text": [
      "train data size (434641, 3)\n",
      "step 1 is running\n",
      "rmse is 0.7333669485948618\n",
      "step 2 is running\n",
      "rmse is 0.5520374591488721\n",
      "step 3 is running\n",
      "rmse is 0.5174092459822195\n",
      "step 4 is running\n",
      "rmse is 0.5004862469374596\n",
      "step 5 is running\n",
      "rmse is 0.49008735823538646\n",
      "step 6 is running\n",
      "rmse is 0.4836747825745926\n",
      "step 7 is running\n",
      "rmse is 0.4794222770760471\n",
      "step 8 is running\n",
      "rmse is 0.4752971645787696\n",
      "step 9 is running\n",
      "rmse is 0.4726829664210143\n",
      "step 10 is running\n",
      "rmse is 0.47045329162357646\n",
      "step 11 is running\n",
      "rmse is 0.46845727813025184\n",
      "step 12 is running\n",
      "rmse is 0.46692472153300435\n",
      "step 13 is running\n",
      "rmse is 0.46525925815724384\n",
      "step 14 is running\n",
      "rmse is 0.46448483907241295\n",
      "step 15 is running\n",
      "rmse is 0.46342109593653447\n",
      "step 16 is running\n",
      "rmse is 0.4621408174639017\n",
      "step 17 is running\n",
      "rmse is 0.46137857197907695\n",
      "step 18 is running\n",
      "rmse is 0.46063430613636575\n",
      "\n",
      "[[0.        ]\n",
      " [0.17166415]\n",
      " [0.        ]\n",
      " ...\n",
      " [1.72524818]\n",
      " [0.28680735]\n",
      " [0.12489671]]\n",
      "(108660, 1)\n",
      "[1898.  742.    0.]\n"
     ]
    }
   ],
   "source": [
    "#train the whole train.csv\n",
    "t=matix_factorization(Xt,50)  \n",
    "t.train()\n",
    "\n",
    "#for qualifying\n",
    "print('')\n",
    "pred=t.r_hat(Xq)\n",
    "pred=np.array(pred)\n",
    "pred=pred[:,np.newaxis]\n",
    "print(pred)\n",
    "print(pred.shape)\n",
    "\n",
    "res=np.append(Xq,pred,axis=1)\n",
    "print(res[6])\n",
    "\n",
    "# save in right format\n",
    "np.savetxt(\"model_based.csv\", res, delimiter=\",\", newline=\"\\n\", encoding=\"utf-8\") "
   ]
  }
 ],
 "metadata": {
  "kernelspec": {
   "display_name": "Python 3",
   "language": "python",
   "name": "python3"
  },
  "language_info": {
   "codemirror_mode": {
    "name": "ipython",
    "version": 3
   },
   "file_extension": ".py",
   "mimetype": "text/x-python",
   "name": "python",
   "nbconvert_exporter": "python",
   "pygments_lexer": "ipython3",
   "version": "3.6.7"
  }
 },
 "nbformat": 4,
 "nbformat_minor": 2
}
