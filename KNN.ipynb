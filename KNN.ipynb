{
 "cells": [
  {
   "cell_type": "code",
   "execution_count": 1,
   "metadata": {},
   "outputs": [
    {
     "name": "stdout",
     "output_type": "stream",
     "text": [
      "[[   2  566    1]\n",
      " [   2  750    2]\n",
      " [   2  391    1]\n",
      " ...\n",
      " [5498  565    2]\n",
      " [5498  648    2]\n",
      " [5498  651    2]]\n"
     ]
    }
   ],
   "source": [
    "import os\n",
    "import numpy as np\n",
    "import numpy.random as rd\n",
    "\n",
    "# read train set and qulifying set \n",
    "Xt = np.genfromtxt(\"train.csv\", delimiter=\",\", dtype=np.int)\n",
    "Xq = np.genfromtxt(\"qualifying.csv\", delimiter=\",\", dtype=np.int)\n",
    "print(Xt)"
   ]
  },
  {
   "cell_type": "code",
   "execution_count": 3,
   "metadata": {},
   "outputs": [
    {
     "name": "stdout",
     "output_type": "stream",
     "text": [
      "There are so much number from 0 to 4 respectively:\n",
      "[335499, 50169, 29623, 15138, 4212]\n"
     ]
    },
    {
     "data": {
      "image/png": "[encoded data removed]",
      "text/plain": [
       "<matplotlib.figure.Figure at 0x1085f8048>"
      ]
     },
     "metadata": {
      "needs_background": "light"
     },
     "output_type": "display_data"
    }
   ],
   "source": [
    "# data description\n",
    "import matplotlib.pyplot as plt\n",
    "List = [Xt[:,2][Xt[:,2]==i].shape[0] for i in range (np.max(Xt[:,2]+1))]\n",
    "print('There are so much number from 0 to 4 respectively:')\n",
    "print(List)\n",
    "plt.bar(range(len(List)),List)\n",
    "plt.show()"
   ]
  },
  {
   "cell_type": "code",
   "execution_count": 3,
   "metadata": {},
   "outputs": [
    {
     "name": "stdout",
     "output_type": "stream",
     "text": [
      "(2080, 5499)\n",
      "\n",
      "(2080,)\n",
      "(2080, 5499)\n"
     ]
    }
   ],
   "source": [
    "# data preparation\n",
    "from sklearn import model_selection as ms\n",
    "from scipy.sparse import coo_matrix\n",
    "import pandas as pd   \n",
    "\n",
    "Xt= Xt + np.array([0,0,1])\n",
    "train_data,test_data=ms.train_test_split(Xt,test_size=0.2,random_state = 1)\n",
    "\n",
    "n_users=max(Xt[:,0])+1\n",
    "n_items=max(Xt[:,1])+1\n",
    "\n",
    "def get_matrix(data):\n",
    "    data_matrix=coo_matrix((data[:,2], (data[:,1], data[:,0])),shape=(n_items, n_users)).toarray()\n",
    "    return (data_matrix)\n",
    "\n",
    "train_data_matrix=get_matrix(train_data)\n",
    "test_data_matrix=get_matrix(test_data)\n",
    "print((train_data_matrix.shape))\n",
    "\n",
    "def g(x):\n",
    "    temp = x.copy()\n",
    "    temp = np.mean(x[x>0])\n",
    "    return temp\n",
    "\n",
    "def f(x):\n",
    "    temp = x.copy()\n",
    "    # mean-centered ratings\n",
    "    temp[temp > 0] = x[x > 0] - np.mean(x[x>0])\n",
    "    return temp\n",
    "\n",
    "train_data_dataframe = pd.DataFrame(train_data_matrix)\n",
    "# print(train_data_dataframe)\n",
    "\n",
    "print('')\n",
    "train_data_mean = train_data_dataframe.apply(g,axis=1)\n",
    "train_data_bias = train_data_dataframe.apply(f,axis=1)\n",
    "\n",
    "print(train_data_mean.shape)\n",
    "print(train_data_bias.shape)\n"
   ]
  },
  {
   "cell_type": "code",
   "execution_count": 4,
   "metadata": {},
   "outputs": [],
   "source": [
    "# compute Similarity      \n",
    "from sklearn.metrics.pairwise import cosine_similarity\n",
    "from scipy import sparse\n",
    "\n",
    "def compute_sim(data):\n",
    "    A =  np.array(data)\n",
    "    A_sparse = sparse.csr_matrix(A)\n",
    "    sim_matrix = cosine_similarity(A_sparse)\n",
    "    return (sim_matrix)\n",
    "\n",
    "sim=compute_sim(train_data_bias)\n",
    "np.savetxt('sim.csv', sim, delimiter = ',')"
   ]
  },
  {
   "cell_type": "code",
   "execution_count": 5,
   "metadata": {},
   "outputs": [
    {
     "data": {
      "text/plain": [
       "0.19675591920935925"
      ]
     },
     "execution_count": 5,
     "metadata": {},
     "output_type": "execute_result"
    }
   ],
   "source": [
    "train_data_sim = np.loadtxt(open(\"sim.csv\"),delimiter=\",\",skiprows=0)\n",
    "train_data_sim[555][577]"
   ]
  },
  {
   "cell_type": "code",
   "execution_count": 6,
   "metadata": {},
   "outputs": [],
   "source": [
    "# compute the predicted data\n",
    "import warnings\n",
    "warnings.filterwarnings(\"ignore\")\n",
    "\n",
    "def k_neighbors(k,sim,train_mean,train_bias):\n",
    "    r_hat_mat = np.zeros((n_items, n_users))\n",
    "\n",
    "    for i in range(len(r_hat_mat)):\n",
    "        sim[i][i]=0\n",
    "        a = np.array(sim[:,i])\n",
    "        neighbors_sim=-np.partition(-a,k)[:k]\n",
    "        neighbors_ind=np.argpartition(-a,k)[:k]\n",
    "        for j in range(r_hat_mat.shape[1]):\n",
    "            r_hat_mat[i, j] = neighbors_sim.dot(train_bias[neighbors_ind][:,j]) \n",
    "            r_hat_mat[i, j] /= np.sum(np.abs(neighbors_sim)) \n",
    "        r_hat_mat[i] += train_mean[i]\n",
    "    return (r_hat_mat)\n",
    "\n",
    "r_hat = k_neighbors(5, train_data_sim, train_data_mean,train_data_bias.values)\n",
    "np.savetxt('r_hat.csv', r_hat, delimiter = ',')\n",
    "# print('result:\\n {}\\n'.format(r_hat))"
   ]
  },
  {
   "cell_type": "code",
   "execution_count": 7,
   "metadata": {},
   "outputs": [
    {
     "name": "stdout",
     "output_type": "stream",
     "text": [
      "(2080, 5499)\n",
      "1.5781018538826306\n"
     ]
    }
   ],
   "source": [
    "print(r_hat.shape)\n",
    "print(r_hat[565][2])"
   ]
  },
  {
   "cell_type": "code",
   "execution_count": 8,
   "metadata": {},
   "outputs": [
    {
     "name": "stdout",
     "output_type": "stream",
     "text": [
      "Item-based CF RMSE: 0.5539183287044253\n"
     ]
    }
   ],
   "source": [
    "#Root Mean Squared Error (RMSE)\n",
    "from sklearn.metrics import mean_squared_error\n",
    "from math import sqrt\n",
    "\n",
    "def rmse(r_hat,r):\n",
    "    r_hat[np.isnan(r_hat)]=0\n",
    "    r_hat=r_hat[r.nonzero()].flatten()\n",
    "    r=r[r.nonzero()].flatten()\n",
    "    return sqrt(mean_squared_error(r_hat,r))\n",
    "\n",
    "rmse_error=rmse(r_hat,test_data_matrix)\n",
    "print ('Item-based CF RMSE: ' + str(rmse_error))  "
   ]
  },
  {
   "cell_type": "code",
   "execution_count": 9,
   "metadata": {},
   "outputs": [
    {
     "name": "stdout",
     "output_type": "stream",
     "text": [
      "(2080, 5499)\n",
      "1.472084744721386\n",
      "(2080, 5499)\n",
      "1.472084744721386\n"
     ]
    }
   ],
   "source": [
    "#train the whole train.csv\n",
    "Xt_matrix=get_matrix(Xt)\n",
    "Xt_dataframe = pd.DataFrame(Xt_matrix)\n",
    "Xt_mean = Xt_dataframe.apply(g,axis=1)\n",
    "Xt_bias = Xt_dataframe.apply(f,axis=1)\n",
    "Xt_sim=compute_sim(train_data_bias)\n",
    "Xt_hat = k_neighbors(10, Xt_sim, Xt_mean,Xt_bias.values)\n",
    "print(Xt_hat.shape)\n",
    "print(Xt_hat[565][2])\n",
    "\n",
    "np.savetxt('Xt_hat.csv', Xt_hat, delimiter = ',')\n",
    "Xt_hat = np.loadtxt(open(\"Xt_hat.csv\"),delimiter=\",\",skiprows=0)\n",
    "print(Xt_hat.shape)\n",
    "print(Xt_hat[565][2])"
   ]
  },
  {
   "cell_type": "code",
   "execution_count": 10,
   "metadata": {},
   "outputs": [
    {
     "name": "stdout",
     "output_type": "stream",
     "text": [
      "0.47208474472138606\n",
      "108660\n",
      "(108660, 1)\n",
      "[1.89800000e+03 7.42000000e+02 3.47433476e-01]\n"
     ]
    }
   ],
   "source": [
    "# Xt_hat = np.loadtxt(open(\"Xt_hat.csv\"),delimiter=\",\",skiprows=0)\n",
    "# print(Xt_hat[565][2])\n",
    "\n",
    "#for qualifying\n",
    "Xt_hat[np.isnan(Xt_hat)]=0\n",
    "Xt_hat[Xt_hat>0]-=1\n",
    "Xt_hat[Xt_hat<0]=0\n",
    "print(Xt_hat[565][2])\n",
    "\n",
    "pred=[0 for i in range(len(Xq))]\n",
    "for i in range(len(Xq)):\n",
    "    pred[i]=Xt_hat[Xq[i,1],Xq[i,0]]\n",
    "\n",
    "print(len(pred))\n",
    "pred=np.array(pred)\n",
    "pred=pred[:,np.newaxis]\n",
    "print(pred.shape)\n",
    "\n",
    "# np.c_[Xq,pred]\n",
    "res=np.append(Xq,pred,axis=1)\n",
    "print(res[6])\n",
    "\n",
    "# # save in right format\n",
    "np.savetxt(\"Result.csv\", res, delimiter=\",\", newline=\"\\n\", encoding=\"utf-8\")                 "
   ]
  }
 ],
 "metadata": {
  "kernelspec": {
   "display_name": "Python 3",
   "language": "python",
   "name": "python3"
  },
  "language_info": {
   "codemirror_mode": {
    "name": "ipython",
    "version": 3
   },
   "file_extension": ".py",
   "mimetype": "text/x-python",
   "name": "python",
   "nbconvert_exporter": "python",
   "pygments_lexer": "ipython3",
   "version": "3.6.7"
  }
 },
 "nbformat": 4,
 "nbformat_minor": 2
}
